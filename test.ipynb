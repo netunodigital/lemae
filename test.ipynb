{
 "cells": [
  {
   "cell_type": "code",
   "execution_count": 14,
   "metadata": {},
   "outputs": [],
   "source": [
    "from contentful import Client\n",
    "import json\n",
    "\n",
    "client = Client(\n",
    "    'r0iojhtvlgr2',\n",
    "    'RaUhiKQRQMFANqWuoS4DTiVZXUPpNiBtFhiEv_7o1iw',\n",
    "    environment='master'  # Optional - it defaults to 'master'.\n",
    "    )\n",
    "\n",
    "entries = client.entries({'content_type': 'researchArea'})"
   ]
  },
  {
   "cell_type": "code",
   "execution_count": 15,
   "metadata": {},
   "outputs": [
    {
     "data": {
      "text/plain": [
       "[<Entry[researchArea] id='72JEwvj36td8hEYEZB2ojM'>]"
      ]
     },
     "execution_count": 15,
     "metadata": {},
     "output_type": "execute_result"
    }
   ],
   "source": [
    "entries.items"
   ]
  }
 ],
 "metadata": {
  "kernelspec": {
   "display_name": "Python 3",
   "language": "python",
   "name": "python3"
  },
  "language_info": {
   "codemirror_mode": {
    "name": "ipython",
    "version": 3
   },
   "file_extension": ".py",
   "mimetype": "text/x-python",
   "name": "python",
   "nbconvert_exporter": "python",
   "pygments_lexer": "ipython3",
   "version": "3.9.13"
  },
  "orig_nbformat": 4,
  "vscode": {
   "interpreter": {
    "hash": "115ee3b083f64ffbfaf38094f8b66caca0b4b8b22c8bb6f3a575da491c0bad86"
   }
  }
 },
 "nbformat": 4,
 "nbformat_minor": 2
}
