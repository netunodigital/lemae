{
 "cells": [
  {
   "cell_type": "code",
   "execution_count": 30,
   "metadata": {},
   "outputs": [],
   "source": [
    "from contentful import Client\n",
    "import json\n",
    "\n",
    "client = Client(\n",
    "    'r0iojhtvlgr2',\n",
    "    'RaUhiKQRQMFANqWuoS4DTiVZXUPpNiBtFhiEv_7o1iw',\n",
    "    environment='master'  # Optional - it defaults to 'master'.\n",
    "    )\n",
    "\n",
    "entries = client.entries()"
   ]
  },
  {
   "cell_type": "code",
   "execution_count": 58,
   "metadata": {},
   "outputs": [
    {
     "data": {
      "text/plain": [
       "'//images.ctfassets.net/r0iojhtvlgr2/8XixNYdUu7TP8AOt9aecB/16d4c9e0b3f37a3c7b29f6995a18b6cb/membro.png'"
      ]
     },
     "execution_count": 58,
     "metadata": {},
     "output_type": "execute_result"
    }
   ],
   "source": [
    "entries[0].photo.url()"
   ]
  }
 ],
 "metadata": {
  "kernelspec": {
   "display_name": "Python 3",
   "language": "python",
   "name": "python3"
  },
  "language_info": {
   "codemirror_mode": {
    "name": "ipython",
    "version": 3
   },
   "file_extension": ".py",
   "mimetype": "text/x-python",
   "name": "python",
   "nbconvert_exporter": "python",
   "pygments_lexer": "ipython3",
   "version": "3.9.13"
  },
  "orig_nbformat": 4,
  "vscode": {
   "interpreter": {
    "hash": "115ee3b083f64ffbfaf38094f8b66caca0b4b8b22c8bb6f3a575da491c0bad86"
   }
  }
 },
 "nbformat": 4,
 "nbformat_minor": 2
}
